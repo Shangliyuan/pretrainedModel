{
 "cells": [
  {
   "cell_type": "code",
   "execution_count": 1,
   "id": "f78f7513-a3b3-4c91-9d26-1edb3a4a0877",
   "metadata": {
    "tags": []
   },
   "outputs": [],
   "source": [
    "# -*- coding: utf-8 -*-\n",
    "# @Time    : 2023/8/8 上午\n",
    "# @Author  : 东光太狼 \n",
    "# @Content : 预训练语言模型入门系列笔记（二）\n",
    "# 该系列笔记将介绍基于transformer的预训练语言模型，使用该模型解决现实NLP任务。\n",
    "# （二）使用bert微调"
   ]
  },
  {
   "cell_type": "code",
   "execution_count": null,
   "id": "d72b5b45-5436-4fde-b86a-8c16bbf18b4c",
   "metadata": {},
   "outputs": [],
   "source": [
    "!pip install transformers==4.29.0\n",
    "!pip install small_text==1.3.1"
   ]
  },
  {
   "cell_type": "code",
   "execution_count": 1,
   "id": "9f054ebf-40b5-4ccd-9c77-de0f43a08654",
   "metadata": {
    "tags": []
   },
   "outputs": [],
   "source": [
    "import datasets\n",
    "import torch\n",
    "\n",
    "import pandas as pd\n",
    "import numpy as np\n",
    "\n",
    "import logging\n",
    "logging.getLogger('small_text').setLevel(logging.INFO)\n",
    "import warnings\n",
    "warnings.filterwarnings(\"ignore\")\n",
    "\n",
    "from sklearn.metrics import accuracy_score\n",
    "from transformers import AutoTokenizer\n",
    "from small_text import TransformersDataset\n",
    "from small_text import TransformerModelArguments\n",
    "from small_text import TransformerBasedClassificationFactory\n",
    "\n",
    "# fix the random seed\n",
    "seed = 2023\n",
    "torch.manual_seed(seed)\n",
    "np.random.seed(seed)"
   ]
  },
  {
   "cell_type": "code",
   "execution_count": 2,
   "id": "a0cd457e-575b-4a31-a644-7ac9332da769",
   "metadata": {
    "tags": []
   },
   "outputs": [
    {
     "name": "stdout",
     "output_type": "stream",
     "text": [
      "训练集数量为： 34704 \n",
      "测试集数量为： 8676 \n",
      "标签类数量为： 2\n"
     ]
    }
   ],
   "source": [
    "#第一部分：数据预处理\n",
    "df = pd.read_csv('data/sample_多分类.csv')\n",
    "df['label'] = 0\n",
    "df.loc[df['categories']=='支付方式改革','label'] = 1\n",
    "#df.head(3)\n",
    "train = df.sample(frac=0.8)\n",
    "test = df[~df.index.isin(train.index)]\n",
    "num_classes = np.unique(train['label']).shape[0]\n",
    "\n",
    "print('训练集数量为：',len(train),\n",
    "      '\\n测试集数量为：',len(test),\n",
    "      '\\n标签类数量为：',num_classes)"
   ]
  },
  {
   "cell_type": "code",
   "execution_count": 5,
   "id": "1fe1970b-4682-42f3-841d-64e243a710f5",
   "metadata": {
    "tags": []
   },
   "outputs": [
    {
     "data": {
      "application/vnd.jupyter.widget-view+json": {
       "model_id": "6f3362e3d41f4517bfe8aa37174ff2da",
       "version_major": 2,
       "version_minor": 0
      },
      "text/plain": [
       "Downloading (…)lve/main/config.json:   0%|          | 0.00/849 [00:00<?, ?B/s]"
      ]
     },
     "metadata": {},
     "output_type": "display_data"
    },
    {
     "data": {
      "application/vnd.jupyter.widget-view+json": {
       "model_id": "b5a9e2c3fff843d1a210a0628e993354",
       "version_major": 2,
       "version_minor": 0
      },
      "text/plain": [
       "Downloading (…)solve/main/vocab.txt:   0%|          | 0.00/110k [00:00<?, ?B/s]"
      ]
     },
     "metadata": {},
     "output_type": "display_data"
    },
    {
     "data": {
      "application/vnd.jupyter.widget-view+json": {
       "model_id": "6c431dc761ad43f9b9150c8984849424",
       "version_major": 2,
       "version_minor": 0
      },
      "text/plain": [
       "Downloading (…)/main/tokenizer.json:   0%|          | 0.00/269k [00:00<?, ?B/s]"
      ]
     },
     "metadata": {},
     "output_type": "display_data"
    }
   ],
   "source": [
    "transformer_model_name = \"Langboat/mengzi-bert-base\"\n",
    "tokenizer = AutoTokenizer.from_pretrained(transformer_model_name)\n",
    "transformer_model = TransformerModelArguments(transformer_model_name)"
   ]
  },
  {
   "cell_type": "code",
   "execution_count": 9,
   "id": "d235c92b-7e3a-4bae-8bf7-43e8f0bd7dc3",
   "metadata": {
    "tags": []
   },
   "outputs": [],
   "source": [
    "#第二部分：训练模型\n",
    "## 将文本数据封装\n",
    "train = TransformersDataset.from_arrays(list(train['text']),\n",
    "                                        list(train['label']),\n",
    "                                        tokenizer,\n",
    "                                        max_length=90)\n",
    "test = TransformersDataset.from_arrays(list(test['text']), \n",
    "                                       list(test['label']),\n",
    "                                       tokenizer,\n",
    "                                       max_length=90)"
   ]
  },
  {
   "cell_type": "code",
   "execution_count": 10,
   "id": "e5b4417f-7164-486c-9585-dd9cdad88112",
   "metadata": {
    "tags": []
   },
   "outputs": [],
   "source": [
    "## 加载预训练模型\n",
    "transformer_model = TransformerModelArguments(transformer_model_name)\n",
    "clf_factory = TransformerBasedClassificationFactory(transformer_model, \n",
    "                                                    num_classes, \n",
    "                                                    kwargs=dict({'device': 'cuda', \n",
    "                                                                 'mini_batch_size': 256,\n",
    "                                                                 'class_weight': 'balanced',\n",
    "                                                                 'num_epochs': 20\n",
    "                                                                }))"
   ]
  },
  {
   "cell_type": "code",
   "execution_count": 11,
   "id": "8d2faa76-0a4f-4c11-bfb2-0b0114dc5a48",
   "metadata": {
    "tags": []
   },
   "outputs": [
    {
     "data": {
      "application/vnd.jupyter.widget-view+json": {
       "model_id": "25b23d23b5c24b2d98bf02993898a629",
       "version_major": 2,
       "version_minor": 0
      },
      "text/plain": [
       "Downloading (…)lve/main/config.json:   0%|          | 0.00/849 [00:00<?, ?B/s]"
      ]
     },
     "metadata": {},
     "output_type": "display_data"
    },
    {
     "data": {
      "application/vnd.jupyter.widget-view+json": {
       "model_id": "49d57c314f39469d93e15f684cbfc318",
       "version_major": 2,
       "version_minor": 0
      },
      "text/plain": [
       "Downloading (…)solve/main/vocab.txt:   0%|          | 0.00/110k [00:00<?, ?B/s]"
      ]
     },
     "metadata": {},
     "output_type": "display_data"
    },
    {
     "data": {
      "application/vnd.jupyter.widget-view+json": {
       "model_id": "ef60f2536fae434d8f65bd4fe7f46d2c",
       "version_major": 2,
       "version_minor": 0
      },
      "text/plain": [
       "Downloading (…)/main/tokenizer.json:   0%|          | 0.00/269k [00:00<?, ?B/s]"
      ]
     },
     "metadata": {},
     "output_type": "display_data"
    },
    {
     "data": {
      "application/vnd.jupyter.widget-view+json": {
       "model_id": "110e48e5d0734564b2a9a103f94eaee7",
       "version_major": 2,
       "version_minor": 0
      },
      "text/plain": [
       "Downloading pytorch_model.bin:   0%|          | 0.00/206M [00:00<?, ?B/s]"
      ]
     },
     "metadata": {},
     "output_type": "display_data"
    },
    {
     "name": "stderr",
     "output_type": "stream",
     "text": [
      "INFO:small_text.integrations.transformers.classifiers.classification:Epoch: 1 | 00:00:55\n",
      "\tTrain Set Size: 31233\n",
      "\tLoss: 0.0013(train)\t|\tAcc: 92.7%(train)\n",
      "\tLoss: 0.0004(valid)\t|\tAcc: 99.2%(valid)\n",
      "INFO:small_text.integrations.transformers.classifiers.classification:Epoch: 2 | 00:00:51\n",
      "\tTrain Set Size: 31233\n",
      "\tLoss: 0.0002(train)\t|\tAcc: 99.4%(train)\n",
      "\tLoss: 0.0003(valid)\t|\tAcc: 99.0%(valid)\n",
      "INFO:small_text.integrations.transformers.classifiers.classification:Epoch: 3 | 00:00:51\n",
      "\tTrain Set Size: 31233\n",
      "\tLoss: 0.0001(train)\t|\tAcc: 99.7%(train)\n",
      "\tLoss: 0.0004(valid)\t|\tAcc: 99.4%(valid)\n",
      "INFO:small_text.integrations.transformers.classifiers.classification:Epoch: 4 | 00:00:52\n",
      "\tTrain Set Size: 31233\n",
      "\tLoss: 0.0001(train)\t|\tAcc: 99.8%(train)\n",
      "\tLoss: 0.0006(valid)\t|\tAcc: 99.5%(valid)\n",
      "INFO:small_text.integrations.transformers.classifiers.classification:Epoch: 5 | 00:00:51\n",
      "\tTrain Set Size: 31233\n",
      "\tLoss: 0.0000(train)\t|\tAcc: 99.9%(train)\n",
      "\tLoss: 0.0004(valid)\t|\tAcc: 99.3%(valid)\n",
      "INFO:small_text.integrations.transformers.classifiers.classification:Epoch: 6 | 00:00:52\n",
      "\tTrain Set Size: 31233\n",
      "\tLoss: 0.0000(train)\t|\tAcc: 99.9%(train)\n",
      "\tLoss: 0.0005(valid)\t|\tAcc: 99.3%(valid)\n",
      "INFO:small_text.integrations.transformers.classifiers.classification:Epoch: 7 | 00:00:52\n",
      "\tTrain Set Size: 31233\n",
      "\tLoss: 0.0000(train)\t|\tAcc: 99.9%(train)\n",
      "\tLoss: 0.0007(valid)\t|\tAcc: 99.4%(valid)\n",
      "INFO:small_text.integrations.transformers.classifiers.classification:Epoch: 8 | 00:00:51\n",
      "\tTrain Set Size: 31233\n",
      "\tLoss: 0.0000(train)\t|\tAcc: 100.0%(train)\n",
      "\tLoss: 0.0007(valid)\t|\tAcc: 99.3%(valid)\n"
     ]
    }
   ],
   "source": [
    "## 使用训练集进行训练\n",
    "clf = clf_factory.new().fit(train)"
   ]
  },
  {
   "cell_type": "code",
   "execution_count": 12,
   "id": "c559395a-645a-4284-ab58-22ced5e68a94",
   "metadata": {
    "tags": []
   },
   "outputs": [
    {
     "data": {
      "text/plain": [
       "(0.00013596425689014045, 0.9925080682342093)"
      ]
     },
     "execution_count": 12,
     "metadata": {},
     "output_type": "execute_result"
    }
   ],
   "source": [
    "#第三部分：测试模型精度\n",
    "clf.validate(test)"
   ]
  }
 ],
 "metadata": {
  "kernelspec": {
   "display_name": "Python 3 (ipykernel)",
   "language": "python",
   "name": "python3"
  },
  "language_info": {
   "codemirror_mode": {
    "name": "ipython",
    "version": 3
   },
   "file_extension": ".py",
   "mimetype": "text/x-python",
   "name": "python",
   "nbconvert_exporter": "python",
   "pygments_lexer": "ipython3",
   "version": "3.11.3"
  }
 },
 "nbformat": 4,
 "nbformat_minor": 5
}
